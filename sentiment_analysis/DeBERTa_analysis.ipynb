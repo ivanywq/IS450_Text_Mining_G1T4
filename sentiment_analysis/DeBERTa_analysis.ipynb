{
 "cells": [
  {
   "cell_type": "code",
   "execution_count": 1,
   "metadata": {},
   "outputs": [
    {
     "data": {
      "text/html": [
       "<div>\n",
       "<style scoped>\n",
       "    .dataframe tbody tr th:only-of-type {\n",
       "        vertical-align: middle;\n",
       "    }\n",
       "\n",
       "    .dataframe tbody tr th {\n",
       "        vertical-align: top;\n",
       "    }\n",
       "\n",
       "    .dataframe thead th {\n",
       "        text-align: right;\n",
       "    }\n",
       "</style>\n",
       "<table border=\"1\" class=\"dataframe\">\n",
       "  <thead>\n",
       "    <tr style=\"text-align: right;\">\n",
       "      <th></th>\n",
       "      <th>title</th>\n",
       "      <th>url</th>\n",
       "      <th>time_published</th>\n",
       "      <th>authors</th>\n",
       "      <th>summary</th>\n",
       "      <th>banner_image</th>\n",
       "      <th>source</th>\n",
       "      <th>category_within_source</th>\n",
       "      <th>source_domain</th>\n",
       "      <th>topics</th>\n",
       "      <th>ticker</th>\n",
       "      <th>ticker_sentiment_score</th>\n",
       "      <th>ticker_sentiment_label</th>\n",
       "      <th>news_text</th>\n",
       "    </tr>\n",
       "  </thead>\n",
       "  <tbody>\n",
       "    <tr>\n",
       "      <th>0</th>\n",
       "      <td>NVDA: Will These Semiconductor Stocks Deliver ...</td>\n",
       "      <td>https://stocknews.com/news/nvda-tsm-avgo-csco-...</td>\n",
       "      <td>NaN</td>\n",
       "      <td>NaN</td>\n",
       "      <td>Despite macroeconomic challenges, the semicond...</td>\n",
       "      <td>https://stocknews.com/wp-content/uploads/2022/...</td>\n",
       "      <td>Stocknews.com</td>\n",
       "      <td>NaN</td>\n",
       "      <td>stocknews.com</td>\n",
       "      <td>[{'topic': 'Financial Markets', 'relevance_sco...</td>\n",
       "      <td>CSCO</td>\n",
       "      <td>0.197061</td>\n",
       "      <td>Somewhat-Bullish</td>\n",
       "      <td>Despite macroeconomic challenges, the semicond...</td>\n",
       "    </tr>\n",
       "    <tr>\n",
       "      <th>1</th>\n",
       "      <td>3 Cheap Tech Stocks to Buy Right Now</td>\n",
       "      <td>https://www.fool.com/investing/2024/02/12/3-ch...</td>\n",
       "      <td>2/12/24 00:00</td>\n",
       "      <td>Leo Sun</td>\n",
       "      <td>IBM, AT&amp;T, and Cisco are all attractive safe h...</td>\n",
       "      <td>https://g.foolcdn.com/image/?url=https%3A%2F%2...</td>\n",
       "      <td>Motley Fool</td>\n",
       "      <td>NaN</td>\n",
       "      <td>www.fool.com</td>\n",
       "      <td>[{'topic': 'Earnings', 'relevance_score': '0.9...</td>\n",
       "      <td>CSCO</td>\n",
       "      <td>0.046564</td>\n",
       "      <td>Neutral</td>\n",
       "      <td>Many tech stocks soared over the past year as ...</td>\n",
       "    </tr>\n",
       "    <tr>\n",
       "      <th>2</th>\n",
       "      <td>Nvidia's Valuation Sparks Reddit Debate: Echoe...</td>\n",
       "      <td>https://www.benzinga.com/trading-ideas/long-id...</td>\n",
       "      <td>NaN</td>\n",
       "      <td>Surbhi Jain</td>\n",
       "      <td>The technology sector has always been a hot to...</td>\n",
       "      <td>https://cdn.benzinga.com/files/images/story/20...</td>\n",
       "      <td>Benzinga</td>\n",
       "      <td>Trading</td>\n",
       "      <td>www.benzinga.com</td>\n",
       "      <td>[{'topic': 'Financial Markets', 'relevance_sco...</td>\n",
       "      <td>CSCO</td>\n",
       "      <td>0.468392</td>\n",
       "      <td>Bullish</td>\n",
       "      <td>The technology sector has always been a hot to...</td>\n",
       "    </tr>\n",
       "    <tr>\n",
       "      <th>3</th>\n",
       "      <td>Spotlight on Cisco Systems: Analyzing the Surg...</td>\n",
       "      <td>https://www.benzinga.com/insights/options/24/0...</td>\n",
       "      <td>NaN</td>\n",
       "      <td>Benzinga Insights</td>\n",
       "      <td>Deep-pocketed investors have adopted a bullish...</td>\n",
       "      <td>https://cdn.benzinga.com/files/images/story/20...</td>\n",
       "      <td>Benzinga</td>\n",
       "      <td>Markets</td>\n",
       "      <td>www.benzinga.com</td>\n",
       "      <td>[{'topic': 'Earnings', 'relevance_score': '0.1...</td>\n",
       "      <td>CSCO</td>\n",
       "      <td>0.412413</td>\n",
       "      <td>Bullish</td>\n",
       "      <td>Deep-pocketed investors have adopted a bullish...</td>\n",
       "    </tr>\n",
       "    <tr>\n",
       "      <th>4</th>\n",
       "      <td>If You Like Nvidia, Then You Will Love These 2...</td>\n",
       "      <td>https://www.fool.com/investing/2024/02/11/if-y...</td>\n",
       "      <td>2/11/24 00:00</td>\n",
       "      <td>Daniel Foelber, Scott Levine, Lee Samaha</td>\n",
       "      <td>These companies have clearly defined runways f...</td>\n",
       "      <td>https://g.foolcdn.com/image/?url=https%3A%2F%2...</td>\n",
       "      <td>Motley Fool</td>\n",
       "      <td>NaN</td>\n",
       "      <td>www.fool.com</td>\n",
       "      <td>[{'topic': 'Financial Markets', 'relevance_sco...</td>\n",
       "      <td>CSCO</td>\n",
       "      <td>0.078029</td>\n",
       "      <td>Neutral</td>\n",
       "      <td>Nvidia (NVDA -5.55%) could be about to do the ...</td>\n",
       "    </tr>\n",
       "  </tbody>\n",
       "</table>\n",
       "</div>"
      ],
      "text/plain": [
       "                                               title  \\\n",
       "0  NVDA: Will These Semiconductor Stocks Deliver ...   \n",
       "1               3 Cheap Tech Stocks to Buy Right Now   \n",
       "2  Nvidia's Valuation Sparks Reddit Debate: Echoe...   \n",
       "3  Spotlight on Cisco Systems: Analyzing the Surg...   \n",
       "4  If You Like Nvidia, Then You Will Love These 2...   \n",
       "\n",
       "                                                 url time_published  \\\n",
       "0  https://stocknews.com/news/nvda-tsm-avgo-csco-...            NaN   \n",
       "1  https://www.fool.com/investing/2024/02/12/3-ch...  2/12/24 00:00   \n",
       "2  https://www.benzinga.com/trading-ideas/long-id...            NaN   \n",
       "3  https://www.benzinga.com/insights/options/24/0...            NaN   \n",
       "4  https://www.fool.com/investing/2024/02/11/if-y...  2/11/24 00:00   \n",
       "\n",
       "                                    authors  \\\n",
       "0                                       NaN   \n",
       "1                                   Leo Sun   \n",
       "2                               Surbhi Jain   \n",
       "3                         Benzinga Insights   \n",
       "4  Daniel Foelber, Scott Levine, Lee Samaha   \n",
       "\n",
       "                                             summary  \\\n",
       "0  Despite macroeconomic challenges, the semicond...   \n",
       "1  IBM, AT&T, and Cisco are all attractive safe h...   \n",
       "2  The technology sector has always been a hot to...   \n",
       "3  Deep-pocketed investors have adopted a bullish...   \n",
       "4  These companies have clearly defined runways f...   \n",
       "\n",
       "                                        banner_image         source  \\\n",
       "0  https://stocknews.com/wp-content/uploads/2022/...  Stocknews.com   \n",
       "1  https://g.foolcdn.com/image/?url=https%3A%2F%2...    Motley Fool   \n",
       "2  https://cdn.benzinga.com/files/images/story/20...       Benzinga   \n",
       "3  https://cdn.benzinga.com/files/images/story/20...       Benzinga   \n",
       "4  https://g.foolcdn.com/image/?url=https%3A%2F%2...    Motley Fool   \n",
       "\n",
       "  category_within_source     source_domain  \\\n",
       "0                    NaN     stocknews.com   \n",
       "1                    NaN      www.fool.com   \n",
       "2                Trading  www.benzinga.com   \n",
       "3                Markets  www.benzinga.com   \n",
       "4                    NaN      www.fool.com   \n",
       "\n",
       "                                              topics ticker  \\\n",
       "0  [{'topic': 'Financial Markets', 'relevance_sco...   CSCO   \n",
       "1  [{'topic': 'Earnings', 'relevance_score': '0.9...   CSCO   \n",
       "2  [{'topic': 'Financial Markets', 'relevance_sco...   CSCO   \n",
       "3  [{'topic': 'Earnings', 'relevance_score': '0.1...   CSCO   \n",
       "4  [{'topic': 'Financial Markets', 'relevance_sco...   CSCO   \n",
       "\n",
       "   ticker_sentiment_score ticker_sentiment_label  \\\n",
       "0                0.197061       Somewhat-Bullish   \n",
       "1                0.046564                Neutral   \n",
       "2                0.468392                Bullish   \n",
       "3                0.412413                Bullish   \n",
       "4                0.078029                Neutral   \n",
       "\n",
       "                                           news_text  \n",
       "0  Despite macroeconomic challenges, the semicond...  \n",
       "1  Many tech stocks soared over the past year as ...  \n",
       "2  The technology sector has always been a hot to...  \n",
       "3  Deep-pocketed investors have adopted a bullish...  \n",
       "4  Nvidia (NVDA -5.55%) could be about to do the ...  "
      ]
     },
     "execution_count": 1,
     "metadata": {},
     "output_type": "execute_result"
    }
   ],
   "source": [
    "import pandas as pd\n",
    "\n",
    "# Load the dataset from the CSV file\n",
    "news_df = pd.read_csv('news_cleaned_no_spaces.csv')\n",
    "\n",
    "news_df.head()"
   ]
  },
  {
   "cell_type": "code",
   "execution_count": 2,
   "metadata": {},
   "outputs": [
    {
     "data": {
      "text/plain": [
       "title                         0\n",
       "url                           0\n",
       "time_published            11589\n",
       "authors                    3417\n",
       "summary                       0\n",
       "banner_image               2225\n",
       "source                        0\n",
       "category_within_source    14483\n",
       "source_domain                 0\n",
       "topics                        0\n",
       "ticker                        0\n",
       "ticker_sentiment_score        0\n",
       "ticker_sentiment_label        0\n",
       "news_text                     0\n",
       "dtype: int64"
      ]
     },
     "execution_count": 2,
     "metadata": {},
     "output_type": "execute_result"
    }
   ],
   "source": [
    "news_df.isnull().sum()"
   ]
  },
  {
   "cell_type": "code",
   "execution_count": 3,
   "metadata": {},
   "outputs": [
    {
     "name": "stdout",
     "output_type": "stream",
     "text": [
      "ticker_sentiment_label\n",
      "Neutral             14708\n",
      "Somewhat-Bullish     7586\n",
      "Bullish              3264\n",
      "Somewhat-Bearish      702\n",
      "Bearish               159\n",
      "Name: count, dtype: int64\n"
     ]
    },
    {
     "data": {
      "text/plain": [
       "golden_sentiment\n",
       "Neutral    14708\n",
       "Bullish    10850\n",
       "Bearish      861\n",
       "Name: count, dtype: int64"
      ]
     },
     "execution_count": 3,
     "metadata": {},
     "output_type": "execute_result"
    }
   ],
   "source": [
    "print(news_df['ticker_sentiment_label'].value_counts())\n",
    "\n",
    "# Define the valid sentiment labels\n",
    "valid_labels = ['Bullish', 'Bearish', 'Neutral', 'Somewhat-Bullish', 'Somewhat-Bearish']\n",
    "\n",
    "# Keep only the rows where 'ticker_sentiment_label' is in valid_labels\n",
    "news_df = news_df[news_df['ticker_sentiment_label'].isin(valid_labels)]\n",
    "\n",
    "def simplify_sentiment(label):\n",
    "    if 'Bullish' in label:\n",
    "        return 'Bullish'\n",
    "    elif 'Bearish' in label:\n",
    "        return 'Bearish'\n",
    "    else:\n",
    "        return 'Neutral'\n",
    "\n",
    "news_df['golden_sentiment'] = news_df['ticker_sentiment_label'].apply(simplify_sentiment)\n",
    "\n",
    "news_df['golden_sentiment'].value_counts()"
   ]
  },
  {
   "cell_type": "code",
   "execution_count": 4,
   "metadata": {},
   "outputs": [
    {
     "name": "stdout",
     "output_type": "stream",
     "text": [
      "golden_sentiment\n",
      "Bearish    861\n",
      "Bullish    861\n",
      "Neutral    861\n",
      "Name: count, dtype: int64\n"
     ]
    }
   ],
   "source": [
    "from sklearn.utils import resample\n",
    "\n",
    "# Separate the classes\n",
    "df_minority = news_df[news_df.golden_sentiment == 'Bearish']\n",
    "df_majority1 = news_df[news_df.golden_sentiment == 'Bullish']\n",
    "df_majority2 = news_df[news_df.golden_sentiment == 'Neutral'] \n",
    "\n",
    "# Downsample the majority classes to match the number of samples in the minority class\n",
    "df_majority1_downsampled = resample(df_majority1, replace=False, n_samples=861, random_state=42)\n",
    "df_majority2_downsampled = resample(df_majority2, replace=False, n_samples=861, random_state=42)\n",
    "\n",
    "# Combine the minority class and downsampled majority classes\n",
    "df_resampled = pd.concat([df_minority, df_majority1_downsampled, df_majority2_downsampled])\n",
    "\n",
    "# Check the new class counts\n",
    "print(df_resampled.golden_sentiment.value_counts())"
   ]
  },
  {
   "cell_type": "code",
   "execution_count": 5,
   "metadata": {},
   "outputs": [
    {
     "name": "stderr",
     "output_type": "stream",
     "text": [
      "/Library/Frameworks/Python.framework/Versions/3.11/lib/python3.11/site-packages/tqdm/auto.py:21: TqdmWarning: IProgress not found. Please update jupyter and ipywidgets. See https://ipywidgets.readthedocs.io/en/stable/user_install.html\n",
      "  from .autonotebook import tqdm as notebook_tqdm\n",
      "/Library/Frameworks/Python.framework/Versions/3.11/lib/python3.11/site-packages/transformers/convert_slow_tokenizer.py:550: UserWarning: The sentencepiece tokenizer that you are converting to a fast tokenizer uses the byte fallback option which is not implemented in the fast tokenizers. In practice this means that the fast version of the tokenizer can produce unknown tokens whereas the sentencepiece version would have converted these unknown tokens into a sequence of byte tokens matching the original piece of text.\n",
      "  warnings.warn(\n",
      "Some weights of the PyTorch model were not used when initializing the TF 2.0 model TFDebertaV2ForSequenceClassification: ['deberta.embeddings.position_ids']\n",
      "- This IS expected if you are initializing TFDebertaV2ForSequenceClassification from a PyTorch model trained on another task or with another architecture (e.g. initializing a TFBertForSequenceClassification model from a BertForPreTraining model).\n",
      "- This IS NOT expected if you are initializing TFDebertaV2ForSequenceClassification from a PyTorch model that you expect to be exactly identical (e.g. initializing a TFBertForSequenceClassification model from a BertForSequenceClassification model).\n",
      "All the weights of TFDebertaV2ForSequenceClassification were initialized from the PyTorch model.\n",
      "If your task is similar to the task the model of the checkpoint was trained on, you can already use TFDebertaV2ForSequenceClassification for predictions without further training.\n"
     ]
    }
   ],
   "source": [
    "from transformers import AutoTokenizer, TFAutoModelForSequenceClassification\n",
    "from transformers import pipeline\n",
    "\n",
    "# Load Aspect-Based Sentiment Analysis model\n",
    "absa_tokenizer = AutoTokenizer.from_pretrained(\"yangheng/deberta-v3-base-absa-v1.1\")\n",
    "absa_model = TFAutoModelForSequenceClassification \\\n",
    "  .from_pretrained(\"yangheng/deberta-v3-base-absa-v1.1\")\n",
    "\n",
    "# Load a traditional Sentiment Analysis model\n",
    "sentiment_model_path = \"cardiffnlp/twitter-xlm-roberta-base-sentiment\"\n",
    "sentiment_model = pipeline(\"sentiment-analysis\", model=sentiment_model_path,\n",
    "                          tokenizer=sentiment_model_path)"
   ]
  },
  {
   "cell_type": "code",
   "execution_count": 7,
   "metadata": {},
   "outputs": [
    {
     "name": "stderr",
     "output_type": "stream",
     "text": [
      "100%|██████████| 2583/2583 [2:46:27<00:00,  3.87s/it]   "
     ]
    },
    {
     "name": "stdout",
     "output_type": "stream",
     "text": [
      "CPU times: user 8h 22min 46s, sys: 4h 3min 56s, total: 12h 26min 42s\n",
      "Wall time: 2h 46min 27s\n"
     ]
    },
    {
     "name": "stderr",
     "output_type": "stream",
     "text": [
      "\n"
     ]
    }
   ],
   "source": [
    "%%time\n",
    "\n",
    "from tqdm import tqdm\n",
    "import tensorflow as tf\n",
    "\n",
    "# Initialize empty lists to store the results\n",
    "negative = []\n",
    "neutral = []\n",
    "positive = []\n",
    "\n",
    "# Iterate over the rows of the DataFrame\n",
    "for _, row in tqdm(df_resampled.iterrows(), total=df_resampled.shape[0]):\n",
    "    # Get the news text and the ticker\n",
    "    news_text = row['news_text']\n",
    "    ticker = row['ticker']\n",
    "\n",
    "    # Perform ABSA\n",
    "    inputs = absa_tokenizer(f\"[CLS] {news_text} [SEP] {ticker} [SEP]\", return_tensors=\"tf\")\n",
    "    outputs = absa_model(inputs)\n",
    "    probs = tf.nn.softmax(outputs.logits, axis=1)\n",
    "    probs = probs.numpy()[0]\n",
    "\n",
    "    # Store the results\n",
    "    negative.append(probs[0])\n",
    "    neutral.append(probs[1])\n",
    "    positive.append(probs[2])\n",
    "\n",
    "# Append the results to the original DataFrame\n",
    "df_resampled['predicted_Bearish'] = negative\n",
    "df_resampled['predicted_Neutral'] = neutral\n",
    "df_resampled['predicted_Bullish'] = positive"
   ]
  },
  {
   "cell_type": "code",
   "execution_count": 8,
   "metadata": {},
   "outputs": [
    {
     "data": {
      "text/plain": [
       "26     Neutral\n",
       "62     Neutral\n",
       "138    Neutral\n",
       "145    Bearish\n",
       "151    Neutral\n",
       "Name: predicted_Sentiment, dtype: object"
      ]
     },
     "execution_count": 8,
     "metadata": {},
     "output_type": "execute_result"
    }
   ],
   "source": [
    "# Define a mapping from column names to labels\n",
    "label_mapping = {\n",
    "    'predicted_Bearish': 'Bearish',\n",
    "    'predicted_Neutral': 'Neutral',\n",
    "    'predicted_Bullish': 'Bullish'\n",
    "}\n",
    "\n",
    "# Find the column name with the maximum value for each row\n",
    "df_resampled['predicted_Sentiment'] = df_resampled[['predicted_Bearish', 'predicted_Neutral', 'predicted_Bullish']].idxmax(axis=1)\n",
    "\n",
    "# Map the column names to labels\n",
    "df_resampled['predicted_Sentiment'] = df_resampled['predicted_Sentiment'].map(label_mapping)\n",
    "\n",
    "df_resampled['predicted_Sentiment'].head()"
   ]
  },
  {
   "cell_type": "code",
   "execution_count": 10,
   "metadata": {},
   "outputs": [
    {
     "name": "stdout",
     "output_type": "stream",
     "text": [
      "              precision    recall  f1-score   support\n",
      "\n",
      "     Bearish       0.66      0.29      0.40       861\n",
      "     Bullish       0.44      0.66      0.53       861\n",
      "     Neutral       0.30      0.32      0.31       861\n",
      "\n",
      "    accuracy                           0.42      2583\n",
      "   macro avg       0.47      0.42      0.41      2583\n",
      "weighted avg       0.47      0.42      0.41      2583\n",
      "\n"
     ]
    }
   ],
   "source": [
    "from sklearn.metrics import classification_report\n",
    "\n",
    "# Generate the classification report\n",
    "report = classification_report(df_resampled['golden_sentiment'], df_resampled['predicted_Sentiment'])\n",
    "\n",
    "print(report)"
   ]
  }
 ],
 "metadata": {
  "kernelspec": {
   "display_name": "Python 3",
   "language": "python",
   "name": "python3"
  },
  "language_info": {
   "codemirror_mode": {
    "name": "ipython",
    "version": 3
   },
   "file_extension": ".py",
   "mimetype": "text/x-python",
   "name": "python",
   "nbconvert_exporter": "python",
   "pygments_lexer": "ipython3",
   "version": "3.11.2"
  }
 },
 "nbformat": 4,
 "nbformat_minor": 2
}
